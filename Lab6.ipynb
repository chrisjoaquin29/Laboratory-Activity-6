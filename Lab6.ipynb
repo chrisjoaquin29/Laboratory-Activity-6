{
  "nbformat": 4,
  "nbformat_minor": 0,
  "metadata": {
    "colab": {
      "name": "Lab6.ipynb",
      "provenance": [],
      "collapsed_sections": []
    },
    "kernelspec": {
      "name": "python3",
      "display_name": "Python 3"
    }
  },
  "cells": [
    {
      "cell_type": "markdown",
      "metadata": {
        "id": "lVHZ_HLNFdAJ"
      },
      "source": [
        "*Joaquin, Marc Christopher C* <br>\n",
        "*58010* <br>\n",
        "*Engr. Dylan Lopez* <br>\n",
        "\n",
        "#**Linear Algebra for CpE**\n",
        "\n",
        "##**Laboratory 6 : Matrices**\n",
        "\n",
        "Now that you have a fundamental knowledge about vector representations, we'll try to look into greater dimensions.\n",
        "\n",
        "###**Objectives**\n",
        "\n",
        "At the end of this activity you will be able to:\n",
        "\n",
        "\n",
        "\n",
        "1.   Be familiar with matrices and their relation to linear equations.\n",
        "2.   Perform basic matrix operations.\n",
        "3.   Program and translate matrix equations and operations using Python.\n",
        "\n",
        "#**Discussion**\n",
        "\n",
        "\n",
        "\n",
        "\n",
        "\n",
        "\n"
      ]
    },
    {
      "cell_type": "code",
      "metadata": {
        "id": "f36EvSZIG0GO"
      },
      "source": [
        "\n",
        "import numpy as np\n",
        "import matplotlib.pyplot as plt\n",
        "import scipy.linalg as la\n",
        "%matplotlib inline"
      ],
      "execution_count": 3,
      "outputs": []
    },
    {
      "cell_type": "markdown",
      "metadata": {
        "id": "TLvqGlgwG49T"
      },
      "source": [
        "###**Matrices**\n",
        "\n",
        "The notation and use of matrices is probably one of the fundamentals of modern computing. Matrices are also handy representations of complex equations or multiple inter-related equations from 2-dimensional equations to even hundreds and thousands of them.\n",
        "\n",
        "Let's say for example you have $A$ and $B$ as system of equation.\n",
        "\n",
        "$$ A = \\left\\{ \\begin{array}\\\\ x + y \\\\ 4x - 10y \\end{array} \\right. \\\\ B = \\left\\{ \\begin{array}\\\\ x+y+z \\\\ 3x -2y -z \\\\ -x + 4y +2z \\end{array} \\right. $$\n",
        "\n",
        "We could see that $A$ is a system of 2 equations with 2 parameters. While $B$ is a system of 3 equations with 3 parameters. We can represent them as matrices as:\n",
        "\n",
        "$$ A=\\begin{bmatrix} 1 & 1 \\\\ 4 & {-10}\\end{bmatrix} \\\\ B=\\begin{bmatrix} 1 & 1 & 1 \\\\ 3 & -2 & -1 \\\\ -1 & 4 & 2\\end{bmatrix} $$\n",
        "\n",
        "\n",
        "So assuming that you already discussed the fundamental representation of matrices, their types, and operations. We'll proceed in doing them in here in Python.\n",
        "\n",
        "###**Declaring Matrices**\n",
        "\n",
        "Just like our previous laboratory activity, we'll represent system of linear equations as a matrix. The entities or numbers in matrices are called the elements of a matrix. These elements are arranged and ordered in rows and columns which form the list/array-like structure of matrices. And just like arrays, these elements are indexed according to their position with respect to their rows and columns. This can be reprsented just like the equation below. Whereas $A$ is a matrix consisting of elements denoted by $a_{i,j}$. Denoted by $i$ is the number of rows in the matrix while $j$ stands for the number of columns.\n",
        "Do note that the $size$ of a matrix is $i\\times j$.\n",
        "\n",
        "$$A=\\begin{bmatrix}\n",
        "a_{(0,0)}&amp;a_{(0,1)}&amp;\\dots&amp;a_{(0,j-1)}\\\\\n",
        "a_{(1,0)}&amp;a_{(1,1)}&amp;\\dots&amp;a_{(1,j-1)}\\\\\n",
        "\\vdots&amp;\\vdots&amp;\\ddots&amp;\\vdots&amp;\\\\\n",
        "a_{(i-1,0)}&amp;a_{(i-1,1)}&amp;\\dots&amp;a_{(i-1,j-1)}\n",
        "\\end{bmatrix}\n",
        "$$\n",
        "\n",
        "We already gone over some of the types of matrices as vectors but we'll further discuss them in this laboratory activity. Since you already know how to describe vectors using shape, dimensions and size attributes, we'll use them to analyze these matrices.\n",
        "\n",
        "\n"
      ]
    },
    {
      "cell_type": "code",
      "metadata": {
        "id": "zKyoqdSPKJHY"
      },
      "source": [
        "## Since we'll keep on describing matrices. Let's make a function.\n",
        "def describe_mat(matrix):\n",
        "    print(f'Matrix:\\n{matrix}\\n\\nShape:\\t{matrix.shape}\\nRank:\\t{matrix.ndim}\\n')\n"
      ],
      "execution_count": null,
      "outputs": []
    },
    {
      "cell_type": "code",
      "metadata": {
        "id": "3mSrJohqKNeB",
        "outputId": "96758f3b-24ae-4ea2-c9ab-a0c65f2fb2a1",
        "colab": {
          "base_uri": "https://localhost:8080/"
        }
      },
      "source": [
        "## Declaring a 2 x 2 matrix\n",
        "A = np.array([\n",
        "    [1, 2],\n",
        "    [3, 1]\n",
        "])\n",
        "describe_mat(A)"
      ],
      "execution_count": null,
      "outputs": [
        {
          "output_type": "stream",
          "text": [
            "Matrix:\n",
            "[[1 2]\n",
            " [3 1]]\n",
            "\n",
            "Shape:\t(2, 2)\n",
            "Rank:\t2\n",
            "\n"
          ],
          "name": "stdout"
        }
      ]
    },
    {
      "cell_type": "code",
      "metadata": {
        "id": "mM5tUjy6KSw0",
        "outputId": "e0d4ce02-71ea-43f0-f948-a6f7d96443bf",
        "colab": {
          "base_uri": "https://localhost:8080/"
        }
      },
      "source": [
        "G = np.array([\n",
        "    [1,1],\n",
        "    [2,2]\n",
        "])\n",
        "describe_mat(G)"
      ],
      "execution_count": null,
      "outputs": [
        {
          "output_type": "stream",
          "text": [
            "Matrix:\n",
            "[[1 1]\n",
            " [2 2]]\n",
            "\n",
            "Shape:\t(2, 2)\n",
            "Rank:\t2\n",
            "\n"
          ],
          "name": "stdout"
        }
      ]
    },
    {
      "cell_type": "code",
      "metadata": {
        "id": "B3Ocs8UEKZBV",
        "outputId": "72078ff3-5e79-435d-e5b3-d95e8552ab7c",
        "colab": {
          "base_uri": "https://localhost:8080/"
        }
      },
      "source": [
        "## Declaring a 3 x 2 matrix\n",
        "B = np.array([\n",
        "    [8, 2],\n",
        "    [5, 4],\n",
        "    [1, 1]\n",
        "])\n",
        "describe_mat(B)"
      ],
      "execution_count": null,
      "outputs": [
        {
          "output_type": "stream",
          "text": [
            "Matrix:\n",
            "[[8 2]\n",
            " [5 4]\n",
            " [1 1]]\n",
            "\n",
            "Shape:\t(3, 2)\n",
            "Rank:\t2\n",
            "\n"
          ],
          "name": "stdout"
        }
      ]
    },
    {
      "cell_type": "code",
      "metadata": {
        "id": "fnsFdHwjKcpK",
        "outputId": "5ccedd64-6535-4568-d747-bda6aee4a0c6",
        "colab": {
          "base_uri": "https://localhost:8080/"
        }
      },
      "source": [
        "H = np.array([1,2,3,4,5])\n",
        "describe_mat(H)"
      ],
      "execution_count": null,
      "outputs": [
        {
          "output_type": "stream",
          "text": [
            "Matrix:\n",
            "[1 2 3 4 5]\n",
            "\n",
            "Shape:\t(5,)\n",
            "Rank:\t1\n",
            "\n"
          ],
          "name": "stdout"
        }
      ]
    },
    {
      "cell_type": "markdown",
      "metadata": {
        "id": "YXxYKSpuKe6A"
      },
      "source": [
        "##**Categorizing Matrices**\n",
        "There are several ways of classifying matrices. Once could be according to their **shape** and another is according to their **element values**. We'll try to go through them.\n",
        "\n",
        "###**According to shape**\n",
        "\n",
        "####Row and Column Matrices\n",
        "\n",
        "Row and column matrices are common in vector and matrix computations. They can also represent row and column spaces of a bigger vector space. Row and column matrices are represented by a single column or single row. So with that being, the shape of row matrices would be $1 \\times j$ and column matrices would be $i \\times 1$.\n",
        "\n"
      ]
    },
    {
      "cell_type": "code",
      "metadata": {
        "id": "faACQQIhLCMh",
        "outputId": "5759b2a1-ea02-4741-dc0b-37fba5d867f0",
        "colab": {
          "base_uri": "https://localhost:8080/"
        }
      },
      "source": [
        "## Declaring a Row Matrix\n",
        "\n",
        "row_mat_1D = np.array([\n",
        "    1, 3, 2\n",
        "]) ## this is a 1-D Matrix with a shape of (3,), it's not really considered as a row matrix.\n",
        "row_mat_2D = np.array([\n",
        "    [1,2,3]\n",
        "]) ## this is a 2-D Matrix with a shape of (1,3)\n",
        "describe_mat(row_mat_1D)\n",
        "describe_mat(row_mat_2D)"
      ],
      "execution_count": null,
      "outputs": [
        {
          "output_type": "stream",
          "text": [
            "Matrix:\n",
            "[1 3 2]\n",
            "\n",
            "Shape:\t(3,)\n",
            "Rank:\t1\n",
            "\n",
            "Matrix:\n",
            "[[1 2 3]]\n",
            "\n",
            "Shape:\t(1, 3)\n",
            "Rank:\t2\n",
            "\n"
          ],
          "name": "stdout"
        }
      ]
    },
    {
      "cell_type": "code",
      "metadata": {
        "id": "M86gV4IdLJKp",
        "outputId": "d84fab81-1621-461a-86e6-f3ffab27b207",
        "colab": {
          "base_uri": "https://localhost:8080/"
        }
      },
      "source": [
        "## Declaring a Column Matrix\n",
        "\n",
        "col_mat = np.array([\n",
        "    [1],\n",
        "    [2],\n",
        "    [5]\n",
        "]) ## this is a 2-D Matrix with a shape of (3,1)\n",
        "describe_mat(col_mat)"
      ],
      "execution_count": null,
      "outputs": [
        {
          "output_type": "stream",
          "text": [
            "Matrix:\n",
            "[[1]\n",
            " [2]\n",
            " [5]]\n",
            "\n",
            "Shape:\t(3, 1)\n",
            "Rank:\t2\n",
            "\n"
          ],
          "name": "stdout"
        }
      ]
    },
    {
      "cell_type": "markdown",
      "metadata": {
        "id": "kN7C8AJdLNzS"
      },
      "source": [
        "####Square Matrices\n",
        "\n",
        "Square matrices are matrices that have the same row and column sizes. We could say a matrix is square if $i = j$. We can tweak our matrix descriptor function to determine square matrices.\n"
      ]
    },
    {
      "cell_type": "code",
      "metadata": {
        "id": "pa3AuqTALJJm"
      },
      "source": [
        "def describe_mat(matrix):\n",
        "    is_square = True if matrix.shape[0] == matrix.shape[1] else False \n",
        "    print(f'Matrix:\\n{matrix}\\n\\nShape:\\t{matrix.shape}\\nRank:\\t{matrix.ndim}\\nIs Square: {is_square}\\n')"
      ],
      "execution_count": null,
      "outputs": []
    },
    {
      "cell_type": "code",
      "metadata": {
        "id": "djmGYopbLcbn",
        "outputId": "11baa403-25c6-429b-f97d-4a3cc6aabda7",
        "colab": {
          "base_uri": "https://localhost:8080/"
        }
      },
      "source": [
        "square_mat = np.array([\n",
        "    [1,2,5],\n",
        "    [3,3,8],\n",
        "    [6,1,2]\n",
        "])\n",
        "\n",
        "non_square_mat = np.array([\n",
        "    [1,2,5],\n",
        "    [3,3,8]\n",
        "])\n",
        "describe_mat(square_mat)\n",
        "describe_mat(non_square_mat)"
      ],
      "execution_count": null,
      "outputs": [
        {
          "output_type": "stream",
          "text": [
            "Matrix:\n",
            "[[1 2 5]\n",
            " [3 3 8]\n",
            " [6 1 2]]\n",
            "\n",
            "Shape:\t(3, 3)\n",
            "Rank:\t2\n",
            "Is Square: True\n",
            "\n",
            "Matrix:\n",
            "[[1 2 5]\n",
            " [3 3 8]]\n",
            "\n",
            "Shape:\t(2, 3)\n",
            "Rank:\t2\n",
            "Is Square: False\n",
            "\n"
          ],
          "name": "stdout"
        }
      ]
    },
    {
      "cell_type": "markdown",
      "metadata": {
        "id": "yrH1_EdrLmYN"
      },
      "source": [
        "###**According to element values**\n",
        "\n",
        "####Null Matrix\n",
        "\n",
        "A Null Matrix is a matrix that has no elements. It is always a subspace of any vector or matrix."
      ]
    },
    {
      "cell_type": "code",
      "metadata": {
        "id": "-8gAWgUCL2zm"
      },
      "source": [
        "def describe_mat(matrix):\n",
        "    if matrix.size > 0:\n",
        "        is_square = True if matrix.shape[0] == matrix.shape[1] else False \n",
        "        print(f'Matrix:\\n{matrix}\\n\\nShape:\\t{matrix.shape}\\nRank:\\t{matrix.ndim}\\nIs Square: {is_square}\\n')\n",
        "    else:\n",
        "        print('Matrix is Null')"
      ],
      "execution_count": null,
      "outputs": []
    },
    {
      "cell_type": "code",
      "metadata": {
        "id": "EAaqNh3sL6f2",
        "outputId": "8dddcf38-4cf4-4bd3-b82c-27db8728d63e",
        "colab": {
          "base_uri": "https://localhost:8080/"
        }
      },
      "source": [
        "null_mat = np.array([])\n",
        "describe_mat(null_mat)"
      ],
      "execution_count": null,
      "outputs": [
        {
          "output_type": "stream",
          "text": [
            "Matrix is Null\n"
          ],
          "name": "stdout"
        }
      ]
    },
    {
      "cell_type": "markdown",
      "metadata": {
        "id": "0oiG8STBL_1J"
      },
      "source": [
        "####Zero Matrix\n",
        "\n",
        "A zero matrix can be any rectangular matrix but with all elements having a value of 0."
      ]
    },
    {
      "cell_type": "code",
      "metadata": {
        "id": "WvPMPnWRMEtt",
        "outputId": "956a6633-c0f0-4566-f87e-43ca3a57a7d2",
        "colab": {
          "base_uri": "https://localhost:8080/"
        }
      },
      "source": [
        "zero_mat_row = np.zeros((1,2))\n",
        "zero_mat_sqr = np.zeros((2,2))\n",
        "zero_mat_rct = np.zeros((3,2))\n",
        "\n",
        "print(f'Zero Row Matrix: \\n{zero_mat_row}')\n",
        "print(f'Zero Square Matrix: \\n{zero_mat_sqr}')\n",
        "print(f'Zero Rectangular Matrix: \\n{zero_mat_rct}')"
      ],
      "execution_count": null,
      "outputs": [
        {
          "output_type": "stream",
          "text": [
            "Zero Row Matrix: \n",
            "[[0. 0.]]\n",
            "Zero Square Matrix: \n",
            "[[0. 0.]\n",
            " [0. 0.]]\n",
            "Zero Rectangular Matrix: \n",
            "[[0. 0.]\n",
            " [0. 0.]\n",
            " [0. 0.]]\n"
          ],
          "name": "stdout"
        }
      ]
    },
    {
      "cell_type": "markdown",
      "metadata": {
        "id": "hgBZZsCaMKK3"
      },
      "source": [
        "####Ones Matrix\n",
        "\n",
        "A ones matrix, just like the zero matrix, can be any rectangular matrix but all of its elements are 1s instead of 0s."
      ]
    },
    {
      "cell_type": "code",
      "metadata": {
        "id": "9lnOhtjUMREz",
        "outputId": "df9d76cb-461c-424c-f4f6-c5fbebe8bfdb",
        "colab": {
          "base_uri": "https://localhost:8080/"
        }
      },
      "source": [
        "ones_mat_row = np.ones((1,2))\n",
        "ones_mat_sqr = np.ones((2,2))\n",
        "ones_mat_rct = np.ones((3,2))\n",
        "\n",
        "print(f'Ones Row Matrix: \\n{ones_mat_row}')\n",
        "print(f'Ones Square Matrix: \\n{ones_mat_sqr}')\n",
        "print(f'Ones Rectangular Matrix: \\n{ones_mat_rct}')"
      ],
      "execution_count": null,
      "outputs": [
        {
          "output_type": "stream",
          "text": [
            "Ones Row Matrix: \n",
            "[[1. 1.]]\n",
            "Ones Square Matrix: \n",
            "[[1. 1.]\n",
            " [1. 1.]]\n",
            "Ones Rectangular Matrix: \n",
            "[[1. 1.]\n",
            " [1. 1.]\n",
            " [1. 1.]]\n"
          ],
          "name": "stdout"
        }
      ]
    },
    {
      "cell_type": "markdown",
      "metadata": {
        "id": "uF1RgyrGMW4_"
      },
      "source": [
        "####Diagonal Matrix\n",
        "\n",
        "A diagonal matrix is a square matrix that has values only at the diagonal of the matrix.\n"
      ]
    },
    {
      "cell_type": "code",
      "metadata": {
        "id": "xj0Qn2RiMczk",
        "outputId": "7df0407f-97d0-437e-f77e-0d3963808c47",
        "colab": {
          "base_uri": "https://localhost:8080/"
        }
      },
      "source": [
        "np.array([\n",
        "    [2,0,0],\n",
        "    [0,3,0],\n",
        "    [0,0,5]\n",
        "])\n",
        "# a[1,1], a[2,2], a[3,3], ... a[n-1,n-1]"
      ],
      "execution_count": null,
      "outputs": [
        {
          "output_type": "execute_result",
          "data": {
            "text/plain": [
              "array([[2, 0, 0],\n",
              "       [0, 3, 0],\n",
              "       [0, 0, 5]])"
            ]
          },
          "metadata": {
            "tags": []
          },
          "execution_count": 16
        }
      ]
    },
    {
      "cell_type": "code",
      "metadata": {
        "id": "AjEiNcxhMkXM",
        "outputId": "bc845ec6-bf71-411b-9dec-99d6d14481ee",
        "colab": {
          "base_uri": "https://localhost:8080/"
        }
      },
      "source": [
        "d = np.diag([2,3,5,7])\n",
        "np.diag(d).shape == d.shape[0] == d.shape[1]"
      ],
      "execution_count": null,
      "outputs": [
        {
          "output_type": "execute_result",
          "data": {
            "text/plain": [
              "False"
            ]
          },
          "metadata": {
            "tags": []
          },
          "execution_count": 17
        }
      ]
    },
    {
      "cell_type": "markdown",
      "metadata": {
        "id": "vi9lElegMW3U"
      },
      "source": [
        "####Identity Matrix\n",
        "\n",
        "An identity matrix is a special diagonal matrix in which the values at the diagonal are ones."
      ]
    },
    {
      "cell_type": "code",
      "metadata": {
        "id": "hfOZoLW9MuVq",
        "outputId": "4e6cd059-582d-4d36-9540-39f0cda50f97",
        "colab": {
          "base_uri": "https://localhost:8080/"
        }
      },
      "source": [
        "np.eye(5)"
      ],
      "execution_count": null,
      "outputs": [
        {
          "output_type": "execute_result",
          "data": {
            "text/plain": [
              "array([[1., 0., 0., 0., 0.],\n",
              "       [0., 1., 0., 0., 0.],\n",
              "       [0., 0., 1., 0., 0.],\n",
              "       [0., 0., 0., 1., 0.],\n",
              "       [0., 0., 0., 0., 1.]])"
            ]
          },
          "metadata": {
            "tags": []
          },
          "execution_count": 18
        }
      ]
    },
    {
      "cell_type": "code",
      "metadata": {
        "id": "31Nk20j1MygA",
        "outputId": "d3a5133d-b2ed-4c96-f22f-09c6c98a5cb2",
        "colab": {
          "base_uri": "https://localhost:8080/"
        }
      },
      "source": [
        "np.identity(5)"
      ],
      "execution_count": null,
      "outputs": [
        {
          "output_type": "execute_result",
          "data": {
            "text/plain": [
              "array([[1., 0., 0., 0., 0.],\n",
              "       [0., 1., 0., 0., 0.],\n",
              "       [0., 0., 1., 0., 0.],\n",
              "       [0., 0., 0., 1., 0.],\n",
              "       [0., 0., 0., 0., 1.]])"
            ]
          },
          "metadata": {
            "tags": []
          },
          "execution_count": 19
        }
      ]
    },
    {
      "cell_type": "markdown",
      "metadata": {
        "id": "cgEin-0uM1y5"
      },
      "source": [
        "####Upper Triangular matrix \n",
        "\n",
        "An upper triangular matrix is a matrix that has no values below the diagonal.\n",
        "\n"
      ]
    },
    {
      "cell_type": "code",
      "metadata": {
        "id": "Hy2JkuA6M-jd",
        "outputId": "a7456810-54ff-4592-d6ff-9ec13c219d91",
        "colab": {
          "base_uri": "https://localhost:8080/"
        }
      },
      "source": [
        "np.array([\n",
        "    [1,2,3],\n",
        "    [0,3,1],\n",
        "    [0,0,5]\n",
        "])"
      ],
      "execution_count": null,
      "outputs": [
        {
          "output_type": "execute_result",
          "data": {
            "text/plain": [
              "array([[1, 2, 3],\n",
              "       [0, 3, 1],\n",
              "       [0, 0, 5]])"
            ]
          },
          "metadata": {
            "tags": []
          },
          "execution_count": 20
        }
      ]
    },
    {
      "cell_type": "markdown",
      "metadata": {
        "id": "lX4MQabWNDkw"
      },
      "source": [
        "####Lower Triangular Matrix\n",
        "\n",
        "A lower triangular matrix is a matrix that has no values above the diagonal."
      ]
    },
    {
      "cell_type": "code",
      "metadata": {
        "id": "UhfzV5lMNCi3",
        "outputId": "30e4b6ac-3ace-49d3-b152-2e0cf21e0468",
        "colab": {
          "base_uri": "https://localhost:8080/"
        }
      },
      "source": [
        "np.array([\n",
        "    [1,0,0],\n",
        "    [5,3,0],\n",
        "    [7,8,5]\n",
        "])"
      ],
      "execution_count": null,
      "outputs": [
        {
          "output_type": "execute_result",
          "data": {
            "text/plain": [
              "array([[1, 0, 0],\n",
              "       [5, 3, 0],\n",
              "       [7, 8, 5]])"
            ]
          },
          "metadata": {
            "tags": []
          },
          "execution_count": 21
        }
      ]
    },
    {
      "cell_type": "markdown",
      "metadata": {
        "id": "bEdB7xWhN84H"
      },
      "source": [
        "###**Practice**\n",
        "\n",
        "1. Given the linear combination below, try to create a corresponding matrix representing it.\n",
        "$$\\theta = 5x + 3y - z$$"
      ]
    },
    {
      "cell_type": "code",
      "metadata": {
        "id": "f4kevoAzOEts",
        "outputId": "82067e4d-787a-4383-bb5a-7e043ecaecea",
        "colab": {
          "base_uri": "https://localhost:8080/"
        }
      },
      "source": [
        "theta = np.array([\n",
        "              [5,3,-1],\n",
        "])\n",
        "describe_mat(theta)"
      ],
      "execution_count": null,
      "outputs": [
        {
          "output_type": "stream",
          "text": [
            "Matrix:\n",
            "[[ 5  3 -1]]\n",
            "\n",
            "Shape:\t(1, 3)\n",
            "Rank:\t2\n",
            "Is Square: False\n",
            "\n"
          ],
          "name": "stdout"
        }
      ]
    },
    {
      "cell_type": "markdown",
      "metadata": {
        "id": "Awd29eSuOIcI"
      },
      "source": [
        "1. Given the system of linear combinations below, try to encode it as a matrix. Also describe the matrix.\n",
        "$$ A = \\left\\{\\begin{array} 5x_1 + 2x_2 +x_3\\\\ 4x_2 - x_3\\\\ 10x_3 \\end{array}\\right. $$"
      ]
    },
    {
      "cell_type": "code",
      "metadata": {
        "id": "MuiOSeDwONkf",
        "outputId": "a0067b70-d86d-4a59-f662-85ae380c6ebf",
        "colab": {
          "base_uri": "https://localhost:8080/"
        }
      },
      "source": [
        "number2_mat = np.array([\n",
        "             [1,2,1],\n",
        "             [0,4,-1],\n",
        "             [0,0,10]\n",
        "])\n",
        "describe_mat(number2_mat)"
      ],
      "execution_count": null,
      "outputs": [
        {
          "output_type": "stream",
          "text": [
            "Matrix:\n",
            "[[ 1  2  1]\n",
            " [ 0  4 -1]\n",
            " [ 0  0 10]]\n",
            "\n",
            "Shape:\t(3, 3)\n",
            "Rank:\t2\n",
            "Is Square: True\n",
            "\n"
          ],
          "name": "stdout"
        }
      ]
    },
    {
      "cell_type": "markdown",
      "metadata": {
        "id": "D9XxRCRROfss"
      },
      "source": [
        "1. Given the matrix below, express it as a linear combination in a markdown."
      ]
    },
    {
      "cell_type": "code",
      "metadata": {
        "id": "ELepf9I3Okg0"
      },
      "source": [
        "G = np.array([\n",
        "    [1,7,8],\n",
        "    [2,2,2],\n",
        "    [4,6,7]\n",
        "])"
      ],
      "execution_count": null,
      "outputs": []
    },
    {
      "cell_type": "markdown",
      "metadata": {
        "id": "YsnJt3O2Opip"
      },
      "source": [
        "$$G = \n",
        "\\begin{bmatrix}1&amp;7&amp;8\\\\2&amp;2&amp;2\\\\4&amp;6&amp;7\n",
        "\\end{bmatrix}$$\n",
        "\n",
        "$$G=\\left\\{\\begin{array} 1g_1+7g_2+8g_3 \\\\2g_1+2g_2+2g_3\\\\4g_1+6g_2+7g_3 \\end{array}\\right.$$\n",
        "\n",
        "1. Given the matrix below, display the output as a LaTeX makdown also express it as a system of linear combinations.\n",
        "\n"
      ]
    },
    {
      "cell_type": "code",
      "metadata": {
        "id": "frxpqiqJO1vB",
        "outputId": "e491f736-adfc-4c5a-9ee7-0758c3034875",
        "colab": {
          "base_uri": "https://localhost:8080/"
        }
      },
      "source": [
        "H = np.tril(G)\n",
        "H"
      ],
      "execution_count": null,
      "outputs": [
        {
          "output_type": "execute_result",
          "data": {
            "text/plain": [
              "array([[1, 0, 0],\n",
              "       [2, 2, 0],\n",
              "       [4, 6, 7]])"
            ]
          },
          "metadata": {
            "tags": []
          },
          "execution_count": 25
        }
      ]
    },
    {
      "cell_type": "markdown",
      "metadata": {
        "id": "PP__x4fWO8TL"
      },
      "source": [
        "$$ H = \\left\\{\\begin{array} 1x_1\\\\ 2x_1+ 2y_2\\\\ 4x_1+ 6y_2 +7z_3 \\end{array}\\right. $$\n",
        "$$\\begin{equation*}\n",
        "H = \n",
        "\\begin{bmatrix}\n",
        "1 &amp; 0 &amp; 0 \\\\\n",
        "2 &amp; 2 &amp; 0 \\\\\n",
        "4 &amp; 6 &amp; 7\n",
        "\\end{bmatrix}\n",
        "\\end{equation*}$$\n"
      ]
    },
    {
      "cell_type": "markdown",
      "metadata": {
        "id": "9I1PjH7OO8cC"
      },
      "source": [
        "##**Matrix Algebra**\n",
        "\n",
        "###**Addition**"
      ]
    },
    {
      "cell_type": "code",
      "metadata": {
        "id": "LKOA87kFQOM4",
        "outputId": "11edf41b-ce41-4ad2-d1b9-cbac6f5c1e91",
        "colab": {
          "base_uri": "https://localhost:8080/"
        }
      },
      "source": [
        "A = np.array([\n",
        "    [1,2],\n",
        "    [2,3],\n",
        "    [4,1]\n",
        "])\n",
        "B = np.array([\n",
        "    [2,2],\n",
        "    [0,0],\n",
        "    [1,1]\n",
        "])\n",
        "A+B"
      ],
      "execution_count": null,
      "outputs": [
        {
          "output_type": "execute_result",
          "data": {
            "text/plain": [
              "array([[3, 4],\n",
              "       [2, 3],\n",
              "       [5, 2]])"
            ]
          },
          "metadata": {
            "tags": []
          },
          "execution_count": 26
        }
      ]
    },
    {
      "cell_type": "code",
      "metadata": {
        "id": "c0WQMXdrQTsY",
        "outputId": "87daa7d3-7ee3-45a2-9cb3-9af348db2baf",
        "colab": {
          "base_uri": "https://localhost:8080/"
        }
      },
      "source": [
        "2+A ##Broadcasting\n",
        "# 2*np.ones(A.shape)+A"
      ],
      "execution_count": null,
      "outputs": [
        {
          "output_type": "execute_result",
          "data": {
            "text/plain": [
              "array([[3, 4],\n",
              "       [4, 5],\n",
              "       [6, 3]])"
            ]
          },
          "metadata": {
            "tags": []
          },
          "execution_count": 27
        }
      ]
    },
    {
      "cell_type": "markdown",
      "metadata": {
        "id": "4mdAqevDO8RZ"
      },
      "source": [
        "###**Subtraction**\n"
      ]
    },
    {
      "cell_type": "code",
      "metadata": {
        "id": "nv6roXUBQeKX",
        "outputId": "e0b2f052-351d-43a5-b1da-1961910a5bc1",
        "colab": {
          "base_uri": "https://localhost:8080/"
        }
      },
      "source": [
        "A-B"
      ],
      "execution_count": null,
      "outputs": [
        {
          "output_type": "execute_result",
          "data": {
            "text/plain": [
              "array([[-1,  0],\n",
              "       [ 2,  3],\n",
              "       [ 3,  0]])"
            ]
          },
          "metadata": {
            "tags": []
          },
          "execution_count": 28
        }
      ]
    },
    {
      "cell_type": "code",
      "metadata": {
        "id": "W4OWI1eOQhWi",
        "outputId": "bf61afe7-475b-4fe2-c947-7133df4fe006",
        "colab": {
          "base_uri": "https://localhost:8080/"
        }
      },
      "source": [
        "3-B == 3*np.ones(B.shape)-B"
      ],
      "execution_count": null,
      "outputs": [
        {
          "output_type": "execute_result",
          "data": {
            "text/plain": [
              "array([[ True,  True],\n",
              "       [ True,  True],\n",
              "       [ True,  True]])"
            ]
          },
          "metadata": {
            "tags": []
          },
          "execution_count": 29
        }
      ]
    },
    {
      "cell_type": "markdown",
      "metadata": {
        "id": "KaiR4PKqQme_"
      },
      "source": [
        "###**Element-wise Multiplication**"
      ]
    },
    {
      "cell_type": "code",
      "metadata": {
        "id": "UsqnqSa7QkL3",
        "outputId": "5caaccf0-de4c-4a70-c54e-6f5f813ca360",
        "colab": {
          "base_uri": "https://localhost:8080/"
        }
      },
      "source": [
        "A*B\n",
        "np.multiply(A,B)"
      ],
      "execution_count": null,
      "outputs": [
        {
          "output_type": "execute_result",
          "data": {
            "text/plain": [
              "array([[2, 4],\n",
              "       [0, 0],\n",
              "       [4, 1]])"
            ]
          },
          "metadata": {
            "tags": []
          },
          "execution_count": 30
        }
      ]
    },
    {
      "cell_type": "code",
      "metadata": {
        "id": "TDlcTcUpQseq",
        "outputId": "d6d9ea90-5607-4e08-93b3-2a0c175080da",
        "colab": {
          "base_uri": "https://localhost:8080/"
        }
      },
      "source": [
        "2*A"
      ],
      "execution_count": null,
      "outputs": [
        {
          "output_type": "execute_result",
          "data": {
            "text/plain": [
              "array([[2, 4],\n",
              "       [4, 6],\n",
              "       [8, 2]])"
            ]
          },
          "metadata": {
            "tags": []
          },
          "execution_count": 31
        }
      ]
    },
    {
      "cell_type": "code",
      "metadata": {
        "id": "20CYWhWwQsdJ",
        "outputId": "f382eec0-57ad-46a7-de2a-e7499705f9f2",
        "colab": {
          "base_uri": "https://localhost:8080/"
        }
      },
      "source": [
        "alpha=10**-10\n",
        "A/(alpha+B)"
      ],
      "execution_count": null,
      "outputs": [
        {
          "output_type": "execute_result",
          "data": {
            "text/plain": [
              "array([[5.e-01, 1.e+00],\n",
              "       [2.e+10, 3.e+10],\n",
              "       [4.e+00, 1.e+00]])"
            ]
          },
          "metadata": {
            "tags": []
          },
          "execution_count": 32
        }
      ]
    },
    {
      "cell_type": "code",
      "metadata": {
        "id": "U-cyiiyCQxun",
        "outputId": "025c4a17-0aa8-4820-b351-de77e02391ec",
        "colab": {
          "base_uri": "https://localhost:8080/"
        }
      },
      "source": [
        "np.add(A,B)"
      ],
      "execution_count": null,
      "outputs": [
        {
          "output_type": "execute_result",
          "data": {
            "text/plain": [
              "array([[3, 4],\n",
              "       [2, 3],\n",
              "       [5, 2]])"
            ]
          },
          "metadata": {
            "tags": []
          },
          "execution_count": 33
        }
      ]
    },
    {
      "cell_type": "markdown",
      "metadata": {
        "id": "RDulKKzVQ5Il"
      },
      "source": [
        "###**Activity**\n",
        "\n",
        "####**Task 1**\n",
        "\n",
        "Create a function named mat_desc() that througouhly describes a matrix, it should: \n",
        "\n",
        "1. Displays the shape, size, and rank of the matrix. \n",
        "2. Displays whether the matrix is square or non-square. \n",
        "3. Displays whether the matrix is an empty matrix. \n",
        "4. Displays if the matrix is an identity, ones, or zeros matrix. \n",
        "\n",
        "Use 5 sample matrices in which their shapes are not lower than $(3,3)$. In your methodology, create a flowchart discuss the functions and methods you have done. Present your results in the results section showing the description of each matrix you have declared."
      ]
    },
    {
      "cell_type": "code",
      "metadata": {
        "id": "aka2DHySRSrv"
      },
      "source": [
        "## Function area\n",
        "def mat_desc(matrix):\n",
        "  print(f'The given matrix is:\\n{matrix}\\n')\n",
        "  if matrix.shape > (0, 0):\n",
        "    print(f'The matrix has elements, thus:\\n'\n",
        "          f'The shape of the given matrix is: {matrix.shape}\\n'\n",
        "          f'The size of the given matrix is: {np.product(matrix.shape)}\\n'\n",
        "          f'The rank of the given matrix is: {matrix.ndim}\\n'\n",
        "          )\n",
        "  \n",
        "    if  matrix.shape[0] == matrix.shape[1]:\n",
        "      print(f'It is a square matrix\\n') \n",
        "  \n",
        "    else:\n",
        "      print(f'It is a non-square matrix\\n')\n",
        "\n",
        "    if  np.all(matrix==1):\n",
        "      print(f'It is a ones matrix\\n') \n",
        "  \n",
        "    elif np.all(matrix == 0):\n",
        "      print(f'It is a zero matrix\\n') \n",
        "  \n",
        "    elif np.allclose(matrix, np.eye(matrix.shape[0])):\n",
        "      print(f'It is an identity matrix\\n')\n",
        "\n",
        "    else:\n",
        "      print(f'The matrix has no classification according to the element values.\\n\\n')\n",
        "\n",
        "  else:\n",
        "     print(f'Therefore, it is an empty/null matrix\\n')\n",
        "\n",
        "  \n",
        "  "
      ],
      "execution_count": 2,
      "outputs": []
    },
    {
      "cell_type": "code",
      "metadata": {
        "id": "ll2JkCXIRS4U"
      },
      "source": [
        "## Matrix declarations\n",
        "A = np.array([\n",
        "    [1, 2, 4],\n",
        "    [8, 7, 9],\n",
        "    [7, 5, 6]\n",
        "])\n",
        "\n",
        "B = np.array([\n",
        "    [0, 0, 0],\n",
        "    [0, 0, 0],\n",
        "    [0, 0, 0]\n",
        "])\n",
        "\n",
        "C = np.array([\n",
        "    [1, 1, 1],\n",
        "    [1, 1, 1],\n",
        "    [1, 1, 1]\n",
        "])\n",
        "\n",
        "D = np.array([\n",
        "    [1, 0, 0],\n",
        "    [0, 1, 0],\n",
        "    [0, 0, 1]\n",
        "])\n",
        "\n",
        "E = np.array([\n",
        "    [1, 1, 1, 1],\n",
        "    [1, 1, 1, 1],\n",
        "    [1, 1, 1, 1]\n",
        "])\n",
        "\n",
        "F = np.array([]) ##Try for Empty Matrix\n"
      ],
      "execution_count": 4,
      "outputs": []
    },
    {
      "cell_type": "code",
      "metadata": {
        "id": "rc5Cz4i_RTCd",
        "outputId": "b1ff2c31-265d-4011-d743-fc7d92a2b953",
        "colab": {
          "base_uri": "https://localhost:8080/"
        }
      },
      "source": [
        "## Test Areas\n",
        "mat_desc(A)\n",
        "mat_desc(B)\n",
        "mat_desc(C)\n",
        "mat_desc(D)\n",
        "mat_desc(E)\n",
        "mat_desc(F) ##Try for Empty Matrix"
      ],
      "execution_count": 6,
      "outputs": [
        {
          "output_type": "stream",
          "text": [
            "The given matrix is:\n",
            "[[1 2 4]\n",
            " [8 7 9]\n",
            " [7 5 6]]\n",
            "\n",
            "The matrix has elements, thus:\n",
            "The shape of the given matrix is: (3, 3)\n",
            "The size of the given matrix is: 9\n",
            "The rank of the given matrix is: 2\n",
            "\n",
            "It is a square matrix\n",
            "\n",
            "The matrix has no classification according to the element values.\n",
            "\n",
            "\n",
            "The given matrix is:\n",
            "[[0 0 0]\n",
            " [0 0 0]\n",
            " [0 0 0]]\n",
            "\n",
            "The matrix has elements, thus:\n",
            "The shape of the given matrix is: (3, 3)\n",
            "The size of the given matrix is: 9\n",
            "The rank of the given matrix is: 2\n",
            "\n",
            "It is a square matrix\n",
            "\n",
            "It is a zero matrix\n",
            "\n",
            "The given matrix is:\n",
            "[[1 1 1]\n",
            " [1 1 1]\n",
            " [1 1 1]]\n",
            "\n",
            "The matrix has elements, thus:\n",
            "The shape of the given matrix is: (3, 3)\n",
            "The size of the given matrix is: 9\n",
            "The rank of the given matrix is: 2\n",
            "\n",
            "It is a square matrix\n",
            "\n",
            "It is a ones matrix\n",
            "\n",
            "The given matrix is:\n",
            "[[1 0 0]\n",
            " [0 1 0]\n",
            " [0 0 1]]\n",
            "\n",
            "The matrix has elements, thus:\n",
            "The shape of the given matrix is: (3, 3)\n",
            "The size of the given matrix is: 9\n",
            "The rank of the given matrix is: 2\n",
            "\n",
            "It is a square matrix\n",
            "\n",
            "It is an identity matrix\n",
            "\n",
            "The given matrix is:\n",
            "[[1 1 1 1]\n",
            " [1 1 1 1]\n",
            " [1 1 1 1]]\n",
            "\n",
            "The matrix has elements, thus:\n",
            "The shape of the given matrix is: (3, 4)\n",
            "The size of the given matrix is: 12\n",
            "The rank of the given matrix is: 2\n",
            "\n",
            "It is a non-square matrix\n",
            "\n",
            "It is a ones matrix\n",
            "\n",
            "The given matrix is:\n",
            "[]\n",
            "\n",
            "Therefore, it is an empty/null matrix\n",
            "\n"
          ],
          "name": "stdout"
        }
      ]
    },
    {
      "cell_type": "markdown",
      "metadata": {
        "id": "EFktQe82RZ2U"
      },
      "source": [
        "####**Task 2**\n",
        "\n",
        "Create a function named mat_operations() that takes in two matrices or scalars a input parameters it should:\n",
        "\n",
        "1.  Display the description of each matrix, if the parameter is a scalar it tells that it is a scalar rather than describing it as a matrix.\n",
        "2.  Determines if the matrices are viable for operation and returns your own error message if they are not viable.\n",
        "3.  Returns the sum of the matrices.\n",
        "4.  Returns the differen of the matrices.\n",
        "5.  Returns the element-wise multiplication of the matrices.\n",
        "6.  Returns the element-wise division of the matrices.\n",
        "\n",
        "Use 5 sample matrices in which their shapes are not lower than $(3,3)$. In your methodology, create a flowchart discuss the functions and methods you have done. Present your results in the results section showing the description of each matrix you have declared.\n",
        "\n"
      ]
    },
    {
      "cell_type": "code",
      "metadata": {
        "id": "aeFlEDEmRsig"
      },
      "source": [
        "## Function area\n",
        "def mat_operations(matx,maty):\n",
        "  alpha=10**-10\n",
        "  if np.isscalar(matx):\n",
        "    print(f'First given:\\n{matx}\\nThis parameter is a scalar\\n')\n",
        "  else:\n",
        "    if matx.shape > (0, 0):\n",
        "      print(f'First given:\\n{matx}\\nIt is a matrix. Its description are following:\\n'\n",
        "            f'The shape of the given matrix is: {matx.shape}\\n'\n",
        "            f'The size of the given matrix is: {np.product(matx.shape)}\\n'\n",
        "            f'The rank of the given matrix is: {matx.ndim}\\n'\n",
        "            )\n",
        "  \n",
        "      if  matx.shape[0] == matx.shape[1]:\n",
        "        print(f'It is a square matrix\\n') \n",
        "  \n",
        "      else:\n",
        "        print(f'It is a non-square matrix\\n')\n",
        "\n",
        "      if  np.all(matx==1):\n",
        "        print(f'It is a ones matrix\\n') \n",
        "  \n",
        "      elif np.all(matx == 0):\n",
        "        print(f'It is a zero matrix\\n') \n",
        "  \n",
        "      elif np.allclose(matx, np.eye(matx.shape[0])):\n",
        "        print(f'It is an identity matrix\\n')\n",
        "\n",
        "      else:\n",
        "        print(f'The matrix has no classification according to the element values.\\n\\n')\n",
        "\n",
        "    else:\n",
        "     print(f'Therefore, it is an empty/null matrix\\n')\n",
        "\n",
        "  if np.isscalar(maty):\n",
        "    print(f'Second given:\\n{maty}\\nThis parameter is a scalar\\n')\n",
        "  else:\n",
        "    if matx.shape > (0, 0):\n",
        "      print(f'Second given:\\n{maty}\\nIt is a matrix. Its description are following:\\n'\n",
        "            f'The shape of the given matrix is: {maty.shape}\\n'\n",
        "            f'The size of the given matrix is: {np.product(maty.shape)}\\n'\n",
        "            f'The rank of the given matrix is: {maty.ndim}\\n'\n",
        "            )\n",
        "  \n",
        "      if  maty.shape[0] == maty.shape[1]:\n",
        "        print(f'It is a square matrix\\n') \n",
        "  \n",
        "      else:\n",
        "        print(f'It is a non-square matrix\\n')\n",
        "\n",
        "      if  np.all(maty==1):\n",
        "        print(f'It is a ones matrix\\n') \n",
        "  \n",
        "      elif np.all(maty == 0):\n",
        "        print(f'It is a zero matrix\\n') \n",
        "  \n",
        "      elif np.allclose(maty, np.eye(maty.shape[0])):\n",
        "        print(f'It is an identity matrix\\n')\n",
        "\n",
        "      else:\n",
        "        print(f'The matrix has no classification according to the element values.\\n\\n')\n",
        "\n",
        "    else:\n",
        "     print(f'Therefore, it is an empty/null matrix\\n')\n",
        "\n",
        "  if np.isscalar(matx) == False and np.isscalar(maty) == False:\n",
        "    if matx.shape == maty.shape:\n",
        "      print(f'Both are matrices. Go for operation:\\nSum of the matrices:\\n{matx + maty}\\n'\n",
        "            f'Difference of the matrices:\\n{matx - maty}\\n\\n'\n",
        "            f'Element-wise multiplication of the matrices:\\n{matx*maty}\\n\\n'\n",
        "            f'Element-wise division of the matrices:\\n{matx/(alpha + maty)}\\n\\n'\n",
        "           )\n",
        "    else:\n",
        "      print('The given matrices are not viable for operation.\\n\\n\\n')  \n",
        "\n",
        "  elif np.isscalar(matx) == True and np.isscalar(maty) == True:\n",
        "      print(f'Both are scalars. Go for operation:\\nSum of the matrices:\\n{matx + maty}\\n'\n",
        "            f'Difference of the matrices:\\n{matx - maty}\\n\\n'\n",
        "            f'Element-wise multiplication of the matrices:\\n{matx*maty}\\n\\n'\n",
        "            f'Element-wise division of the matrices:\\n{matx/(alpha + maty)}\\n\\n'   \n",
        "      )\n",
        "      \n",
        "  else: \n",
        "    print('The given matrices are not viable for operation.\\n\\n\\n')\n",
        "\n",
        "    \n"
      ],
      "execution_count": null,
      "outputs": []
    },
    {
      "cell_type": "code",
      "metadata": {
        "id": "7ygSH6W0Rs3n"
      },
      "source": [
        "## Matrix declarations\n",
        "mat1 =  np.array([\n",
        "    [4, 6, 5],\n",
        "    [9, 3, 7],\n",
        "    [1, 2, 8]      \n",
        "])\n",
        "\n",
        "mat2 = np.array([\n",
        "    [8, 1, 3],\n",
        "    [5, 2, 4],\n",
        "    [6, 9, 7]      \n",
        "])\n",
        "\n",
        "mat3 = np.array([\n",
        "    [1, 1, 1],\n",
        "    [1, 1, 1],\n",
        "    [1, 1, 1]      \n",
        "])\n",
        "\n",
        "mat4 = np.array([\n",
        "    [0, 0, 0, 0],\n",
        "    [0, 0, 0, 0],\n",
        "    [0, 0, 0, 0]      \n",
        "])\n",
        "\n",
        "mat5 = np.array([\n",
        "    [1, 0, 0],\n",
        "    [0, 1, 0],\n",
        "    [0, 0, 1]      \n",
        "]) \n",
        "\n",
        "mat6 =  4   ##Exemptional given\n",
        "mat7 =  5   ##Exemptional given"
      ],
      "execution_count": null,
      "outputs": []
    },
    {
      "cell_type": "code",
      "metadata": {
        "id": "VfdB7U6URs89",
        "outputId": "9f729be3-b164-4219-9fdc-51defb915ad9",
        "colab": {
          "base_uri": "https://localhost:8080/"
        }
      },
      "source": [
        "## Test Areas\n",
        "print('1st Pair:\\n')\n",
        "mat_operations(mat1,mat2)\n",
        "print('2nd Pair:\\n')\n",
        "mat_operations(mat2,mat3)\n",
        "print('3rd Pair:\\n')\n",
        "mat_operations(mat1,mat4)\n",
        "print('4th Pair:\\n')\n",
        "mat_operations(mat3,mat5)\n",
        "print(\"Exemptional pair:(it has a scalar given)\\n\")\n",
        "mat_operations(mat1,mat6)\n",
        "print(\"Exemptional pair:(it has a scalar given)\\n\")\n",
        "mat_operations(mat6,mat7)\n"
      ],
      "execution_count": null,
      "outputs": [
        {
          "output_type": "stream",
          "text": [
            "1st Pair:\n",
            "\n",
            "First given:\n",
            "[[4 6 5]\n",
            " [9 3 7]\n",
            " [1 2 8]]\n",
            "It is a matrix. Its description are following:\n",
            "The shape of the given matrix is: (3, 3)\n",
            "The size of the given matrix is: 9\n",
            "The rank of the given matrix is: 2\n",
            "\n",
            "It is a square matrix\n",
            "\n",
            "The matrix has no classification according to the element values.\n",
            "\n",
            "\n",
            "Second given:\n",
            "[[8 1 3]\n",
            " [5 2 4]\n",
            " [6 9 7]]\n",
            "It is a matrix. Its description are following:\n",
            "The shape of the given matrix is: (3, 3)\n",
            "The size of the given matrix is: 9\n",
            "The rank of the given matrix is: 2\n",
            "\n",
            "It is a square matrix\n",
            "\n",
            "The matrix has no classification according to the element values.\n",
            "\n",
            "\n",
            "Both are matrices. Go for operation:\n",
            "Sum of the matrices:\n",
            "[[12  7  8]\n",
            " [14  5 11]\n",
            " [ 7 11 15]]\n",
            "Difference of the matrices:\n",
            "[[-4  5  2]\n",
            " [ 4  1  3]\n",
            " [-5 -7  1]]\n",
            "\n",
            "Element-wise multiplication of the matrices:\n",
            "[[32  6 15]\n",
            " [45  6 28]\n",
            " [ 6 18 56]]\n",
            "\n",
            "Element-wise division of the matrices:\n",
            "[[0.5        6.         1.66666667]\n",
            " [1.8        1.5        1.75      ]\n",
            " [0.16666667 0.22222222 1.14285714]]\n",
            "\n",
            "\n",
            "2nd Pair:\n",
            "\n",
            "First given:\n",
            "[[8 1 3]\n",
            " [5 2 4]\n",
            " [6 9 7]]\n",
            "It is a matrix. Its description are following:\n",
            "The shape of the given matrix is: (3, 3)\n",
            "The size of the given matrix is: 9\n",
            "The rank of the given matrix is: 2\n",
            "\n",
            "It is a square matrix\n",
            "\n",
            "The matrix has no classification according to the element values.\n",
            "\n",
            "\n",
            "Second given:\n",
            "[[1 1 1]\n",
            " [1 1 1]\n",
            " [1 1 1]]\n",
            "It is a matrix. Its description are following:\n",
            "The shape of the given matrix is: (3, 3)\n",
            "The size of the given matrix is: 9\n",
            "The rank of the given matrix is: 2\n",
            "\n",
            "It is a square matrix\n",
            "\n",
            "It is a ones matrix\n",
            "\n",
            "Both are matrices. Go for operation:\n",
            "Sum of the matrices:\n",
            "[[ 9  2  4]\n",
            " [ 6  3  5]\n",
            " [ 7 10  8]]\n",
            "Difference of the matrices:\n",
            "[[7 0 2]\n",
            " [4 1 3]\n",
            " [5 8 6]]\n",
            "\n",
            "Element-wise multiplication of the matrices:\n",
            "[[8 1 3]\n",
            " [5 2 4]\n",
            " [6 9 7]]\n",
            "\n",
            "Element-wise division of the matrices:\n",
            "[[8. 1. 3.]\n",
            " [5. 2. 4.]\n",
            " [6. 9. 7.]]\n",
            "\n",
            "\n",
            "3rd Pair:\n",
            "\n",
            "First given:\n",
            "[[4 6 5]\n",
            " [9 3 7]\n",
            " [1 2 8]]\n",
            "It is a matrix. Its description are following:\n",
            "The shape of the given matrix is: (3, 3)\n",
            "The size of the given matrix is: 9\n",
            "The rank of the given matrix is: 2\n",
            "\n",
            "It is a square matrix\n",
            "\n",
            "The matrix has no classification according to the element values.\n",
            "\n",
            "\n",
            "Second given:\n",
            "[[0 0 0 0]\n",
            " [0 0 0 0]\n",
            " [0 0 0 0]]\n",
            "It is a matrix. Its description are following:\n",
            "The shape of the given matrix is: (3, 4)\n",
            "The size of the given matrix is: 12\n",
            "The rank of the given matrix is: 2\n",
            "\n",
            "It is a non-square matrix\n",
            "\n",
            "It is a zero matrix\n",
            "\n",
            "The given matrices are not viable for operation.\n",
            "\n",
            "\n",
            "\n",
            "4th Pair:\n",
            "\n",
            "First given:\n",
            "[[1 1 1]\n",
            " [1 1 1]\n",
            " [1 1 1]]\n",
            "It is a matrix. Its description are following:\n",
            "The shape of the given matrix is: (3, 3)\n",
            "The size of the given matrix is: 9\n",
            "The rank of the given matrix is: 2\n",
            "\n",
            "It is a square matrix\n",
            "\n",
            "It is a ones matrix\n",
            "\n",
            "Second given:\n",
            "[[1 0 0]\n",
            " [0 1 0]\n",
            " [0 0 1]]\n",
            "It is a matrix. Its description are following:\n",
            "The shape of the given matrix is: (3, 3)\n",
            "The size of the given matrix is: 9\n",
            "The rank of the given matrix is: 2\n",
            "\n",
            "It is a square matrix\n",
            "\n",
            "It is an identity matrix\n",
            "\n",
            "Both are matrices. Go for operation:\n",
            "Sum of the matrices:\n",
            "[[2 1 1]\n",
            " [1 2 1]\n",
            " [1 1 2]]\n",
            "Difference of the matrices:\n",
            "[[0 1 1]\n",
            " [1 0 1]\n",
            " [1 1 0]]\n",
            "\n",
            "Element-wise multiplication of the matrices:\n",
            "[[1 0 0]\n",
            " [0 1 0]\n",
            " [0 0 1]]\n",
            "\n",
            "Element-wise division of the matrices:\n",
            "[[1.e+00 1.e+10 1.e+10]\n",
            " [1.e+10 1.e+00 1.e+10]\n",
            " [1.e+10 1.e+10 1.e+00]]\n",
            "\n",
            "\n",
            "Exemptional pair:(it has a scalar given)\n",
            "\n",
            "First given:\n",
            "[[4 6 5]\n",
            " [9 3 7]\n",
            " [1 2 8]]\n",
            "It is a matrix. Its description are following:\n",
            "The shape of the given matrix is: (3, 3)\n",
            "The size of the given matrix is: 9\n",
            "The rank of the given matrix is: 2\n",
            "\n",
            "It is a square matrix\n",
            "\n",
            "The matrix has no classification according to the element values.\n",
            "\n",
            "\n",
            "Second given:\n",
            "4\n",
            "This parameter is a scalar\n",
            "\n",
            "The given matrices are not viable for operation.\n",
            "\n",
            "\n",
            "\n",
            "Exemptional pair:(it has a scalar given)\n",
            "\n",
            "First given:\n",
            "4\n",
            "This parameter is a scalar\n",
            "\n",
            "Second given:\n",
            "5\n",
            "This parameter is a scalar\n",
            "\n",
            "Both are scalars. Go for operation:\n",
            "Sum of the matrices:\n",
            "9\n",
            "Difference of the matrices:\n",
            "-1\n",
            "\n",
            "Element-wise multiplication of the matrices:\n",
            "20\n",
            "\n",
            "Element-wise division of the matrices:\n",
            "0.799999999984\n",
            "\n",
            "\n"
          ],
          "name": "stdout"
        }
      ]
    },
    {
      "cell_type": "markdown",
      "metadata": {
        "id": "fWw4B5mWRt7Z"
      },
      "source": [
        "###**Conclusion**\n",
        "\n",
        "For your conclusion synthesize the concept and application of the laboratory. Briefly discuss what you have learned and achieved in this activity. Also answer the question: \"how can matrix operations solve problems in agriculture?\"."
      ]
    }
  ]
}